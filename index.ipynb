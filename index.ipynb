{
 "cells": [
  {
   "cell_type": "markdown",
   "metadata": {},
   "source": [
    "# Tableau Dashboards - Cumulative Lab\n",
    "\n",
    "## Introduction\n",
    "Over the course of the Tableau module, we have used the Superstore Sales data set learn about the Tableau environment interface, including the Start page, Data Source page, and Workspace. Then, we explored the useful visualizations that can be created in Tableau Public. Finally, we discussed how we can combine the vizzes in our workbooks to create dashboards to communicate our insights.  Now it's your turn to apply your skills in Tableau.\n",
    "\n",
    "In this exercise, you will use knowledge of the Tableau interface, data visualizations, and dashboards to re-create the dashboard pictured below. To simplify the process, we have labeled each section of the dashboard with a number.\n",
    "\n",
    "Follow the prompts for each numbered section to recreate the dashboard."
   ]
  },
  {
   "cell_type": "markdown",
   "metadata": {},
   "source": [
    "<div>\n",
    "    <center>\n",
    "<table><tr><td>\n",
    "<img src = \"https://curriculum-content.s3.amazonaws.com/data-science/images/images/tableau/dashboards/tab-dash-labeled.png\" alt=\"This is the alt-text for the image.\" style=\"width: 700px;\"/>\n",
    "</td></tr></table>\n",
    "    </center>\n",
    "</div>"
   ]
  },
  {
   "cell_type": "markdown",
   "metadata": {},
   "source": [
    "### 1. Create a New Dashboard in `learn-wb`\n",
    "1. Open up `learn-wb-YYYY-MM-XX` from Tableau Public.\n",
    "2. Use the sheets tab to create a new dashboard. Change the name on the tab on the sheets tab to \"Super Store Sales Dashboard\".\n",
    "3. Then use the Dashboard pane to set the Device Type to Desktop. Set the width to __Fit All__. Then, select __Floating__ for the layout. \n",
    "4. You should see the names of the worksheets we created previously in the Dashboard pane. \n",
    "\n",
    "### 2. Sales by Region Plot\n",
    "Drag and drop the `Region` sheet onto the dashboard. Enter the visualization and ensure the following:\n",
    "* Regional Manager is indicated by color\n",
    "* Sales are indicated by size\n",
    "* Make this plot a filter so the user can filter the rest of the dashboard by region using this viz.\n",
    "    \n",
    "### 3. Quarterly Sales by Region Plot\n",
    "Drag and drop the `Sales` plot onto the dashboard. Enter the visualization and ensure the following:\n",
    "* The x-axis is changed from `Monthly` to quarterly\n",
    "* Regional Manager Name and Region are both shown on the legend\n",
    "* Sales amounts are labeled on the plot\n",
    "\n",
    "### 4. Orders by Region Plot\n",
    "* `Orders (COUNT)` is sub-divided by `Category`\n",
    "\n",
    "### 5. Profits by Sub-Category\n",
    "* Negative amounts are in red, and positive amounts are in green `Profit`\n",
    "* Profit amounts in labels are rounded to the nearest dollar\n",
    "\n",
    "When you are finished, save and publish to Tableau Public. You've just perfected your first interactive dashboard with Tableau!"
   ]
  }
 ],
 "metadata": {
  "kernelspec": {
   "display_name": "Python 3",
   "language": "python",
   "name": "python3"
  },
  "language_info": {
   "codemirror_mode": {
    "name": "ipython",
    "version": 3
   },
   "file_extension": ".py",
   "mimetype": "text/x-python",
   "name": "python",
   "nbconvert_exporter": "python",
   "pygments_lexer": "ipython3",
   "version": "3.8.5"
  }
 },
 "nbformat": 4,
 "nbformat_minor": 4
}
